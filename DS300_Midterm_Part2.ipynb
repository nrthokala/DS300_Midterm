{
 "cells": [
  {
   "cell_type": "markdown",
   "metadata": {},
   "source": [
    "## DS 300.002 Midterm 1 Part 2 \n",
    "### October 13, 2021"
   ]
  },
  {
   "cell_type": "code",
   "execution_count": 17,
   "metadata": {},
   "outputs": [
    {
     "data": {
      "text/html": [
       "<div>\n",
       "<style scoped>\n",
       "    .dataframe tbody tr th:only-of-type {\n",
       "        vertical-align: middle;\n",
       "    }\n",
       "\n",
       "    .dataframe tbody tr th {\n",
       "        vertical-align: top;\n",
       "    }\n",
       "\n",
       "    .dataframe thead th {\n",
       "        text-align: right;\n",
       "    }\n",
       "</style>\n",
       "<table border=\"1\" class=\"dataframe\">\n",
       "  <thead>\n",
       "    <tr style=\"text-align: right;\">\n",
       "      <th></th>\n",
       "      <th>Name</th>\n",
       "      <th>Age</th>\n",
       "      <th>Gender</th>\n",
       "      <th>State of domicile</th>\n",
       "      <th>Religion</th>\n",
       "      <th>Disease</th>\n",
       "    </tr>\n",
       "  </thead>\n",
       "  <tbody>\n",
       "    <tr>\n",
       "      <th>0</th>\n",
       "      <td>Ramsha</td>\n",
       "      <td>30</td>\n",
       "      <td>Female</td>\n",
       "      <td>Tamil Nadu</td>\n",
       "      <td>Hindu</td>\n",
       "      <td>Cancer</td>\n",
       "    </tr>\n",
       "    <tr>\n",
       "      <th>1</th>\n",
       "      <td>Yadu</td>\n",
       "      <td>24</td>\n",
       "      <td>Female</td>\n",
       "      <td>Kerala</td>\n",
       "      <td>Hindu</td>\n",
       "      <td>Viral infection</td>\n",
       "    </tr>\n",
       "    <tr>\n",
       "      <th>2</th>\n",
       "      <td>Salima</td>\n",
       "      <td>28</td>\n",
       "      <td>Female</td>\n",
       "      <td>Tamil Nadu</td>\n",
       "      <td>Muslim</td>\n",
       "      <td>TB</td>\n",
       "    </tr>\n",
       "    <tr>\n",
       "      <th>3</th>\n",
       "      <td>Sunny</td>\n",
       "      <td>27</td>\n",
       "      <td>Male</td>\n",
       "      <td>Karnataka</td>\n",
       "      <td>Parsi</td>\n",
       "      <td>No illness</td>\n",
       "    </tr>\n",
       "    <tr>\n",
       "      <th>4</th>\n",
       "      <td>Joan</td>\n",
       "      <td>24</td>\n",
       "      <td>Female</td>\n",
       "      <td>Kerala</td>\n",
       "      <td>Christian</td>\n",
       "      <td>Heart-related</td>\n",
       "    </tr>\n",
       "    <tr>\n",
       "      <th>5</th>\n",
       "      <td>Bahuksana</td>\n",
       "      <td>23</td>\n",
       "      <td>Male</td>\n",
       "      <td>Karnataka</td>\n",
       "      <td>Buddhist</td>\n",
       "      <td>TB</td>\n",
       "    </tr>\n",
       "    <tr>\n",
       "      <th>6</th>\n",
       "      <td>Rambha</td>\n",
       "      <td>19</td>\n",
       "      <td>Male</td>\n",
       "      <td>Kerala</td>\n",
       "      <td>Hindu</td>\n",
       "      <td>Cancer</td>\n",
       "    </tr>\n",
       "    <tr>\n",
       "      <th>7</th>\n",
       "      <td>Kishor</td>\n",
       "      <td>29</td>\n",
       "      <td>Male</td>\n",
       "      <td>Karnataka</td>\n",
       "      <td>Hindu</td>\n",
       "      <td>Heart-related</td>\n",
       "    </tr>\n",
       "    <tr>\n",
       "      <th>8</th>\n",
       "      <td>Johnson</td>\n",
       "      <td>17</td>\n",
       "      <td>Male</td>\n",
       "      <td>Kerala</td>\n",
       "      <td>Christian</td>\n",
       "      <td>Heart-related</td>\n",
       "    </tr>\n",
       "    <tr>\n",
       "      <th>9</th>\n",
       "      <td>John</td>\n",
       "      <td>19</td>\n",
       "      <td>Male</td>\n",
       "      <td>Kerala</td>\n",
       "      <td>Christian</td>\n",
       "      <td>Viral infection</td>\n",
       "    </tr>\n",
       "  </tbody>\n",
       "</table>\n",
       "</div>"
      ],
      "text/plain": [
       "        Name Age  Gender State of domicile   Religion          Disease\n",
       "0     Ramsha  30  Female        Tamil Nadu      Hindu           Cancer\n",
       "1       Yadu  24  Female            Kerala      Hindu  Viral infection\n",
       "2     Salima  28  Female        Tamil Nadu     Muslim               TB\n",
       "3      Sunny  27    Male         Karnataka      Parsi       No illness\n",
       "4       Joan  24  Female            Kerala  Christian    Heart-related\n",
       "5  Bahuksana  23    Male         Karnataka   Buddhist               TB\n",
       "6     Rambha  19    Male            Kerala      Hindu           Cancer\n",
       "7     Kishor  29    Male         Karnataka      Hindu    Heart-related\n",
       "8    Johnson  17    Male            Kerala  Christian    Heart-related\n",
       "9       John  19    Male            Kerala  Christian  Viral infection"
      ]
     },
     "execution_count": 17,
     "metadata": {},
     "output_type": "execute_result"
    }
   ],
   "source": [
    "# Load the data and libraries\n",
    "import pandas as pd\n",
    "import numpy as np\n",
    "from scipy import stats\n",
    "\n",
    "cols = ['Name', 'Age', 'Gender', 'State of domicile', 'Religion', 'Disease']\n",
    "rows = [['Ramsha', '30', 'Female', 'Tamil Nadu', 'Hindu', 'Cancer'],\n",
    "    ['Yadu', '24', 'Female', 'Kerala', 'Hindu', 'Viral infection'],\n",
    "    ['Salima', '28', 'Female', 'Tamil Nadu', 'Muslim', 'TB'],\n",
    "    ['Sunny', '27', 'Male', 'Karnataka', 'Parsi', 'No illness'],\n",
    "    ['Joan', '24', 'Female', 'Kerala', 'Christian', 'Heart-related'],\n",
    "    ['Bahuksana', '23', 'Male', 'Karnataka', 'Buddhist', 'TB'],\n",
    "    ['Rambha', '19', 'Male', 'Kerala', 'Hindu', 'Cancer'],\n",
    "    ['Kishor', '29', 'Male', 'Karnataka', 'Hindu', 'Heart-related'],\n",
    "    ['Johnson', '17', 'Male', 'Kerala', 'Christian', 'Heart-related'],\n",
    "    ['John', '19', 'Male', 'Kerala', 'Christian', 'Viral infection']]\n",
    "\n",
    "df = pd.DataFrame(rows, columns = cols) \n",
    "df"
   ]
  },
  {
   "cell_type": "markdown",
   "metadata": {},
   "source": [
    "## Question 1 (5 points)\n",
    "\n",
    "Does the dataset `df` satisfy $k$-Anonymity for $k=3$? Why or why not?"
   ]
  },
  {
   "cell_type": "markdown",
   "metadata": {
    "deletable": false,
    "nbgrader": {
     "cell_type": "markdown",
     "checksum": "c61aa8062b9dfebcfcc33281136fd17f",
     "grade": true,
     "grade_id": "cell-a9793d100ba20894",
     "locked": false,
     "points": 5,
     "schema_version": 3,
     "solution": true,
     "task": false
    }
   },
   "source": [
    "YOUR ANSWER HERE"
   ]
  },
  {
   "cell_type": "markdown",
   "metadata": {},
   "source": [
    "## Question 2 (5 points)\n",
    "\n",
    "What columns should we designate as quasi-identifiers in the dataset `df`, and why?"
   ]
  },
  {
   "cell_type": "markdown",
   "metadata": {
    "deletable": false,
    "nbgrader": {
     "cell_type": "markdown",
     "checksum": "533486216e9001e1b8e8c2af7b1ceff0",
     "grade": true,
     "grade_id": "cell-5cfd666564429892",
     "locked": false,
     "points": 5,
     "schema_version": 3,
     "solution": true,
     "task": false
    }
   },
   "source": [
    "YOUR ANSWER HERE"
   ]
  },
  {
   "cell_type": "markdown",
   "metadata": {},
   "source": [
    "## Question 3 (5 points)\n",
    "\n",
    "Imagine the column `Disease` is *not* a quasi-identifier, and we generalize the dataset to achieve $k$-Anonymity for $k=2$. For which rows is a homogeneity attack possible, and why?"
   ]
  },
  {
   "cell_type": "code",
   "execution_count": null,
   "metadata": {},
   "outputs": [],
   "source": [
    "YOUR ANSWER HERE"
   ]
  },
  {
   "cell_type": "markdown",
   "metadata": {},
   "source": [
    "## Question 4 (5 points)\n",
    "\n",
    "How could we generalize the column `Age` to achieve $k$-Anonymity for $k=3$?"
   ]
  },
  {
   "cell_type": "code",
   "execution_count": null,
   "metadata": {},
   "outputs": [],
   "source": [
    "YOUR ANSWER HERE"
   ]
  },
  {
   "cell_type": "markdown",
   "metadata": {},
   "source": [
    "## Question 5 (5 points)\n",
    "\n",
    "Write a query to determine how many individuals in the dataset are below 20 years old."
   ]
  },
  {
   "cell_type": "code",
   "execution_count": null,
   "metadata": {},
   "outputs": [],
   "source": [
    "YOUR ANSWER HERE"
   ]
  },
  {
   "cell_type": "markdown",
   "metadata": {},
   "source": [
    "## Question 6 (5 points)\n",
    "\n",
    "Add Laplace noise to the query you wrote in Question 5 to ensure differential privacy for $\\epsilon = 0.1$."
   ]
  },
  {
   "cell_type": "code",
   "execution_count": null,
   "metadata": {
    "deletable": false,
    "nbgrader": {
     "cell_type": "markdown",
     "checksum": "cf4facb2adda1e9a3e769bc994597e64",
     "grade": true,
     "grade_id": "cell-5932f02f09b5cacb",
     "locked": false,
     "points": 5,
     "schema_version": 3,
     "solution": true,
     "task": false
    }
   },
   "outputs": [],
   "source": [
    "YOUR ANSWER HERE"
   ]
  },
  {
   "cell_type": "markdown",
   "metadata": {},
   "source": [
    "## Question 7 (5 points)\n",
    "\n",
    "Write a query to determine the average age of individuals in the dataset."
   ]
  },
  {
   "cell_type": "code",
   "execution_count": null,
   "metadata": {
    "deletable": false,
    "nbgrader": {
     "cell_type": "markdown",
     "checksum": "e12830ea31ed2c7d1f7a46390d4aabc4",
     "grade": true,
     "grade_id": "cell-58e8ca844b2373b4",
     "locked": false,
     "points": 5,
     "schema_version": 3,
     "solution": true,
     "task": false
    }
   },
   "outputs": [],
   "source": [
    "YOUR ANSWER HERE"
   ]
  },
  {
   "cell_type": "markdown",
   "metadata": {},
   "source": [
    "## Question 8 (5 points)\n",
    "\n",
    "Add Laplace noise to the query you wrote in Question 7 to ensure differential privacy for $\\epsilon = 0.1$."
   ]
  },
  {
   "cell_type": "code",
   "execution_count": null,
   "metadata": {},
   "outputs": [],
   "source": [
    "YOUR ANSWER HERE"
   ]
  }
 ],
 "metadata": {
  "kernelspec": {
   "display_name": "Python 3",
   "language": "python",
   "name": "python3"
  },
  "language_info": {
   "codemirror_mode": {
    "name": "ipython",
    "version": 3
   },
   "file_extension": ".py",
   "mimetype": "text/x-python",
   "name": "python",
   "nbconvert_exporter": "python",
   "pygments_lexer": "ipython3",
   "version": "3.8.8"
  }
 },
 "nbformat": 4,
 "nbformat_minor": 4
}
